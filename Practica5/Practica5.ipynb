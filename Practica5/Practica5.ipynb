{
 "cells": [
  {
   "cell_type": "markdown",
   "metadata": {},
   "source": [
    "# Practica 5 (Regresión lineal regularizada: sesgo y varianza)\n",
    "### Aprendizaje automático y big data\n",
    "##### _Alberto García Doménech - Pablo Daurell Marina_    \n",
    "---"
   ]
  },
  {
   "cell_type": "code",
   "execution_count": 1,
   "metadata": {},
   "outputs": [],
   "source": [
    "import numpy as np\n",
    "from scipy.io import loadmat"
   ]
  },
  {
   "cell_type": "code",
   "execution_count": 4,
   "metadata": {},
   "outputs": [],
   "source": [
    "data = loadmat('ex5data1.mat')"
   ]
  },
  {
   "cell_type": "code",
   "execution_count": 545,
   "metadata": {},
   "outputs": [
    {
     "data": {
      "text/plain": [
       "array([[  1.        , -15.93675813],\n",
       "       [  1.        , -29.15297922],\n",
       "       [  1.        ,  36.18954863],\n",
       "       [  1.        ,  37.49218733],\n",
       "       [  1.        , -48.05882945],\n",
       "       [  1.        ,  -8.94145794],\n",
       "       [  1.        ,  15.30779289],\n",
       "       [  1.        , -34.70626581],\n",
       "       [  1.        ,   1.38915437],\n",
       "       [  1.        , -44.38375985],\n",
       "       [  1.        ,   7.01350208],\n",
       "       [  1.        ,  22.76274892]])"
      ]
     },
     "execution_count": 545,
     "metadata": {},
     "output_type": "execute_result"
    }
   ],
   "source": [
    "X = data['X']\n",
    "y = data['y']\n",
    "Xtest = data['Xtest']\n",
    "ytest = data['ytest']\n",
    "Xval = data['Xval']\n",
    "yval = data['yval']\n",
    "\n",
    "X = np.hstack([np.ones([np.shape(X)[0], 1]), X])\n",
    "Xtest = np.hstack([np.ones([np.shape(Xtest)[0], 1]), Xtest])\n",
    "Xval = np.hstack([np.ones([np.shape(Xval)[0], 1]), Xval])\n",
    "X"
   ]
  },
  {
   "cell_type": "code",
   "execution_count": 556,
   "metadata": {},
   "outputs": [],
   "source": [
    "def cost(X, Y, Theta, reg):\n",
    "    H = np.dot(X, Theta)\n",
    "    aux = np.sum((H - Y)**2)\n",
    "    regul = reg * np.sum(Theta[1:]**2)\n",
    "    return (aux + regul) / (2*len(X))\n",
    "\n",
    "def gradient(X, Y, Theta, reg):\n",
    "    H = np.dot(X, Theta)\n",
    "    aux = np.dot((H - Y), X) / len(X)\n",
    "    regul = (reg/len(X)) * Theta[1:]\n",
    "    grad = aux[1:] + regul\n",
    "    return grad"
   ]
  },
  {
   "cell_type": "code",
   "execution_count": 553,
   "metadata": {},
   "outputs": [
    {
     "data": {
      "text/plain": [
       "7279.838623141938"
      ]
     },
     "execution_count": 553,
     "metadata": {},
     "output_type": "execute_result"
    }
   ],
   "source": [
    "reg = 1\n",
    "theta = np.array([1,1])\n",
    "cost(X, y, theta, reg)"
   ]
  },
  {
   "cell_type": "code",
   "execution_count": 557,
   "metadata": {},
   "outputs": [
    {
     "data": {
      "text/plain": [
       "array([[  -5.17534969,  849.86925109],\n",
       "       [ -38.3612022 , 1018.63345982],\n",
       "       [ -40.84004818, 1031.23944849],\n",
       "       [  -6.81105809,  858.18752567],\n",
       "       [  -6.12316549,  854.68929853],\n",
       "       [ -18.71236132,  918.71072671],\n",
       "       [  -6.6162774 ,  857.19698283],\n",
       "       [  -7.74226468,  862.9231082 ],\n",
       "       [  -7.73378433,  862.87998198],\n",
       "       [ -11.62975187,  882.69263797],\n",
       "       [ -26.75452132,  959.60853905]])"
      ]
     },
     "execution_count": 557,
     "metadata": {},
     "output_type": "execute_result"
    }
   ],
   "source": [
    "reg = 1\n",
    "theta = np.array([1,1])\n",
    "gradient(X, y, theta, reg)"
   ]
  },
  {
   "cell_type": "code",
   "execution_count": null,
   "metadata": {},
   "outputs": [],
   "source": []
  }
 ],
 "metadata": {
  "kernelspec": {
   "display_name": "Python 3",
   "language": "python",
   "name": "python3"
  },
  "language_info": {
   "codemirror_mode": {
    "name": "ipython",
    "version": 3
   },
   "file_extension": ".py",
   "mimetype": "text/x-python",
   "name": "python",
   "nbconvert_exporter": "python",
   "pygments_lexer": "ipython3",
   "version": "3.7.4"
  }
 },
 "nbformat": 4,
 "nbformat_minor": 4
}

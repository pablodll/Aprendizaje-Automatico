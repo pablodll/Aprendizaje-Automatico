{
 "cells": [
  {
   "cell_type": "markdown",
   "metadata": {},
   "source": [
    "# Practica 5 (Regresión lineal regularizada: sesgo y varianza)\n",
    "### Aprendizaje automático y big data\n",
    "##### _Alberto García Doménech - Pablo Daurell Marina_    \n",
    "---"
   ]
  },
  {
   "cell_type": "code",
   "execution_count": 1,
   "metadata": {},
   "outputs": [],
   "source": [
    "import numpy as np\n",
    "import matplotlib.pyplot as plt\n",
    "from scipy.io import loadmat"
   ]
  },
  {
   "cell_type": "markdown",
   "metadata": {},
   "source": [
    "El objetivo de esta práctica es comprobar los efectos del sesgo (bias) y la varianza. Para ello entrenaremos a un modelo de regresión lineal regularizada.   \n",
    "\n",
    "Usaremos un dataset que representa datos históricos del agua que ha derramado una presa en base a los cambios del nivel del agua."
   ]
  },
  {
   "cell_type": "code",
   "execution_count": 2,
   "metadata": {},
   "outputs": [],
   "source": [
    "# Cargamos los datos\n",
    "data = loadmat('ex5data1.mat')\n",
    "\n",
    "# Datos de entrenamiento\n",
    "X = data['X']\n",
    "y = data['y']\n",
    "# Datos de test\n",
    "Xtest = data['Xtest']\n",
    "ytest = data['ytest']\n",
    "# Datos de validacion cruzada\n",
    "Xval = data['Xval']\n",
    "yval = data['yval']\n",
    "\n",
    "X = np.hstack([np.ones([np.shape(X)[0], 1]), X])\n",
    "Xtest = np.hstack([np.ones([np.shape(Xtest)[0], 1]), Xtest])\n",
    "Xval = np.hstack([np.ones([np.shape(Xval)[0], 1]), Xval])"
   ]
  },
  {
   "cell_type": "markdown",
   "metadata": {},
   "source": [
    "## Regresión lineal regularizada"
   ]
  },
  {
   "cell_type": "markdown",
   "metadata": {},
   "source": [
    "Vamos a implementar las funciones para calcular el coste y el gradiente regularizados de nuestro modelo de regresión lineal:"
   ]
  },
  {
   "cell_type": "code",
   "execution_count": 3,
   "metadata": {},
   "outputs": [],
   "source": [
    "def cost(Theta, X, Y, reg):\n",
    "    H = np.dot(X, Theta)\n",
    "    aux = np.sum((H - Y.ravel())**2)\n",
    "    regul = reg * np.sum(Theta[1:]**2)\n",
    "    cost = (aux + regul) / (2*len(X))\n",
    "    return cost\n",
    "\n",
    "def gradient(Theta, X, Y, reg):\n",
    "    H = np.dot(X, Theta)\n",
    "    grad = np.dot(X.T, H - Y.ravel()) / len(X)\n",
    "    regul = (reg/len(X)) * Theta[1:]\n",
    "    grad[1:] += regul\n",
    "    return grad"
   ]
  },
  {
   "cell_type": "code",
   "execution_count": 4,
   "metadata": {},
   "outputs": [
    {
     "name": "stdout",
     "output_type": "stream",
     "text": [
      "Coste:  303.9931922202643\n",
      "Gradiente:  [-15.30301567 598.25074417]\n"
     ]
    }
   ],
   "source": [
    "reg = 1\n",
    "theta = np.ones(np.shape(X)[1])\n",
    "print(\"Coste: \", cost(theta, X, y, reg))\n",
    "print(\"Gradiente: \", gradient(theta, X, y, reg))"
   ]
  },
  {
   "cell_type": "markdown",
   "metadata": {},
   "source": [
    "\n",
    "Hacemos uso de la funcion de scipy, ```minimize```, para encontrar un valor de Theta que minimize el coste: "
   ]
  },
  {
   "cell_type": "code",
   "execution_count": 5,
   "metadata": {},
   "outputs": [
    {
     "name": "stdout",
     "output_type": "stream",
     "text": [
      "Theta optima:  [13.08790357  0.36777923] , Coste:  22.373906495108923\n"
     ]
    }
   ],
   "source": [
    "import scipy.optimize as opt\n",
    "\n",
    "theta = np.zeros(np.shape(X)[1])\n",
    "reg = 0\n",
    "\n",
    "fmin = opt.minimize(fun=cost, x0=theta, args=(X, y, reg))\n",
    "theta_opt = fmin.x\n",
    "\n",
    "print(\"Theta optima: \", theta_opt, \", Coste: \", cost(theta_opt, X, y, reg))"
   ]
  },
  {
   "cell_type": "code",
   "execution_count": 6,
   "metadata": {},
   "outputs": [
    {
     "data": {
      "image/png": "[encoded data removed]",
      "text/plain": [
       "<Figure size 432x288 with 1 Axes>"
      ]
     },
     "metadata": {
      "needs_background": "light"
     },
     "output_type": "display_data"
    }
   ],
   "source": [
    "plt.scatter(X[:, 1:], y, color='red', marker='x')\n",
    "x_arr = np.arange(min(X.ravel()), max(X.ravel()))\n",
    "y_arr = []\n",
    "for x in x_arr:\n",
    "    x = list(x.ravel())\n",
    "    x.insert(0, 1)\n",
    "    y_arr.append(np.dot(x, theta_opt))\n",
    "    \n",
    "plt.plot(x_arr, y_arr, color='blue')    \n",
    "plt.xlabel(\"Change in water level (x)\")\n",
    "plt.ylabel(\"Water flowing out of the dam (y)\")\n",
    "plt.show()"
   ]
  },
  {
   "cell_type": "markdown",
   "metadata": {},
   "source": [
    "> Vemos que la predicción resultante de entrenar a nuestro modelo es muy poco precisa ya que tenemos pocos datos y además, tal y como están distribuidos, una recta es demasiado simple para ajustarse bien."
   ]
  },
  {
   "cell_type": "markdown",
   "metadata": {},
   "source": [
    "## Curvas de aprendizaje"
   ]
  },
  {
   "cell_type": "markdown",
   "metadata": {},
   "source": [
    "Vamos a pintar las curvas de aprendizaje resultantes de entrenar al modelo con distintos subconjuntos de los ejemplos de entrenamiento, para ver como varía el coste.\n",
    "Una vez entrenado también vamos a comprobar la variación del coste en el conjunto de datos de validación cruzada."
   ]
  },
  {
   "cell_type": "code",
   "execution_count": 10,
   "metadata": {},
   "outputs": [
    {
     "data": {
      "image/png": "[encoded data removed]",
      "text/plain": [
       "<Figure size 432x288 with 1 Axes>"
      ]
     },
     "metadata": {
      "needs_background": "light"
     },
     "output_type": "display_data"
    }
   ],
   "source": [
    "training_x = []\n",
    "training_y = []\n",
    "crossval_x = []\n",
    "crossval_y = []\n",
    "\n",
    "theta = np.zeros((X.shape[1], 1))\n",
    "reg = 0\n",
    "\n",
    "for i in range(1, X.shape[0]):\n",
    "    training_x.append(i)\n",
    "    crossval_x.append(i)\n",
    "    theta_opt = opt.minimize(fun=cost, args=(X[0:i], y[0:i], reg), x0=theta).x\n",
    "    training_y.append(cost(theta_opt, X[0:i], y[0:i], 0))\n",
    "    crossval_y.append(cost(theta_opt, Xval, yval, 0))\n",
    "\n",
    "plt.plot(training_x, training_y, label='Training error')\n",
    "plt.plot(crossval_x, crossval_y, label='Cross Validation error')\n",
    "plt.xlabel('Number of training examples')\n",
    "plt.ylabel('Error')\n",
    "plt.legend()\n",
    "plt.show()"
   ]
  },
  {
   "cell_type": "markdown",
   "metadata": {},
   "source": [
    "> Vemos que a medida que aumentan el numero de ejemplos de entrenamiento, el error del conjunto de entrenamiento y el de validación cruzada se aproximan. Esto indica que se está produciendo un aprendizaje sesgado."
   ]
  },
  {
   "cell_type": "markdown",
   "metadata": {},
   "source": [
    "## Regresión polinomial"
   ]
  },
  {
   "cell_type": "markdown",
   "metadata": {},
   "source": [
    "Para corregir el sesgo de nuestro modelo vamos a crear un polinimio a partir de los datos de entrada para aumentar la cantidad de atributos de los ejemplos:"
   ]
  },
  {
   "cell_type": "code",
   "execution_count": null,
   "metadata": {},
   "outputs": [],
   "source": []
  }
 ],
 "metadata": {
  "kernelspec": {
   "display_name": "Python 3",
   "language": "python",
   "name": "python3"
  },
  "language_info": {
   "codemirror_mode": {
    "name": "ipython",
    "version": 3
   },
   "file_extension": ".py",
   "mimetype": "text/x-python",
   "name": "python",
   "nbconvert_exporter": "python",
   "pygments_lexer": "ipython3",
   "version": "3.7.4"
  }
 },
 "nbformat": 4,
 "nbformat_minor": 4
}

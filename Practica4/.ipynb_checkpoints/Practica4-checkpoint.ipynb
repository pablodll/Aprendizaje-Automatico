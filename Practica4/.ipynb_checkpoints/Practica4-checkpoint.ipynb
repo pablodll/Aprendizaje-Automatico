{
 "cells": [
  {
   "cell_type": "markdown",
   "metadata": {},
   "source": [
    "# Practica 4 (Entrenamiento de redes neuronales)\n",
    "### Aprendizaje automático y big data\n",
    "##### _Alberto García Doménech - Pablo Daurell Marina_    \n",
    "---"
   ]
  },
  {
   "cell_type": "code",
   "execution_count": 10,
   "metadata": {},
   "outputs": [],
   "source": [
    "import numpy as np\n",
    "from scipy.io import loadmat"
   ]
  },
  {
   "cell_type": "code",
   "execution_count": 11,
   "metadata": {},
   "outputs": [],
   "source": [
    "weights = loadmat('ex4weights.mat')\n",
    "\n",
    "theta1 = weights['Theta1'] # Shape: (25, 401)\n",
    "theta2 =weights['Theta2'] # Shape: (10, 26)"
   ]
  },
  {
   "cell_type": "code",
   "execution_count": 50,
   "metadata": {},
   "outputs": [],
   "source": [
    "# Cargamos los datos: 5000 ejemplos de entrenamiento (imagenes de 20x20 pixeles)\n",
    "data = loadmat('ex4data1.mat')\n",
    "\n",
    "X = data['X'] # Shape: (5000, 400)\n",
    "y = data['y'].ravel() # Shape: (5000,)\n",
    "\n",
    "num_examples = np.shape(X)[0]\n",
    "num_features = np.shape(X)[1]\n",
    "num_labels = 10 # Del 0 al 9\n",
    "\n",
    "# Adaptamos 'y' para usarlo en la red neuronal\n",
    "y = (y - 1)\n",
    "y_onehot = np.zeros((len(y), num_labels)) # Shape: (5000, 10)\n",
    "\n",
    "for i in range(len(y)):\n",
    "    y_onehot[i][y[i]] = 1"
   ]
  },
  {
   "cell_type": "code",
   "execution_count": 51,
   "metadata": {},
   "outputs": [],
   "source": [
    "def forward_propagation(X, theta1, theta2):\n",
    "    z_2 = np.dot(theta1, X.T)\n",
    "    a_2 = sigmoid(z_2)\n",
    "    a_2 = np.vstack([np.ones([1,a_2.shape[1]]),a_2]) # Añadimos fila con 1s para el término x0\n",
    "    z_3 = np.dot(theta2, a_2)\n",
    "    a_3 = sigmoid(z_3)\n",
    "    return a_3"
   ]
  }
 ],
 "metadata": {
  "kernelspec": {
   "display_name": "Python 3",
   "language": "python",
   "name": "python3"
  },
  "language_info": {
   "codemirror_mode": {
    "name": "ipython",
    "version": 3
   },
   "file_extension": ".py",
   "mimetype": "text/x-python",
   "name": "python",
   "nbconvert_exporter": "python",
   "pygments_lexer": "ipython3",
   "version": "3.7.4"
  }
 },
 "nbformat": 4,
 "nbformat_minor": 4
}
